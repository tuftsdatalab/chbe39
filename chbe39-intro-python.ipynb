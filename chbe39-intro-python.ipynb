{
 "cells": [
  {
   "cell_type": "markdown",
   "metadata": {},
   "source": [
    "<html>\n",
    "<p>\n",
    "<a href=\"https://colab.research.google.com/github/tuftsdatalab/chbe39/blob/master/chbe39-intro-python.ipynb\" target=\"_blank\">\n",
    "    <img src=\"https://colab.research.google.com/assets/colab-badge.svg\" alt=\"Open In Colab\" style=\"float: left;\"/></a>\n",
    "<span style=\"float:left;\">&ensp;</span>\n",
    "<a href=\"https://cdn.jsdelivr.net/gh/tuftsdatalab/chbe39/chbe39-intro-python.ipynb\" target=\"_blank\">\n",
    "    <img src=\"https://tuftsdatalab.github.io/assets/badges/jupyter.svg\" alt=\"Download Notebook\" style=\"float: left;\"/></a>\n",
    "<span style=\"float:left;\">&ensp;</span>\n",
    "<a href=\"https://github.com/tuftsdatalab/chbe39\" target=\"_blank\">\n",
    "    <img src=\"https://tuftsdatalab.github.io/assets/badges/github.svg\" alt=\"View on GitHub\" style=\"float: left;\"/></a>\n",
    "<span style=\"float:left;\">&ensp;</span>\n",
    "<a href=\"https://github.com/tuftsdatalab/chbe39/archive/master.zip\" target=\"_blank\">\n",
    "    <img src=\"https://tuftsdatalab.github.io/assets/badges/download.svg\" alt=\"Download Zip\" style=\"float: left;\"/></a>\n",
    "<span style=\"float:left;\">&ensp;</span>\n",
    "<span><img src=\"https://img.shields.io/github/repo-size/tuftsdatalab/chbe39?label=total%20size\" alt=\"total size\" style=\"float: left;\"/></span>\n",
    "<span style=\"float:left;\">&ensp;</span>\n",
    "<span><img src=\"https://img.shields.io/github/last-commit/tuftsdatalab/chbe39?label=last%20updated\" alt=\"last updated\" style=\"float: left;\"/></span>\n",
    "</p>\n",
    "</html>"
   ]
  },
  {
   "cell_type": "markdown",
   "metadata": {
    "colab_type": "text",
    "id": "6DFAxibfbXbl"
   },
   "source": [
    "# ChBE-0039: An Introduction to Programming in Python\n",
    "\n",
    "---\n",
    "**A Tufts University Data Lab Wokrshop**\\\n",
    "Written by Uku-Kaspar Uustalu\n",
    "\n",
    "<html>\n",
    "<p>\n",
    "<a href=\"https://sites.tufts.edu/datalab/\" target=\"_blank\">\n",
    "        <img src=\"https://tuftsdatalab.github.io/assets/badges/datalab.svg\" alt=\"datalab.tufts.edu\" style=\"float: left;\"/></a>\n",
    "<span style=\"float:left;\">&ensp;</span>\n",
    "<a href=\"https://twitter.com/intent/follow?screen_name=tuftsdatalab\" target=\"_blank\">\n",
    "        <img src=\"https://tuftsdatalab.github.io/assets/badges/twitter.svg\" alt=\"@TuftsDataLab\" style=\"float: left;\"/></a>\n",
    "<br>\n",
    "</p>\n",
    "</html>\n",
    "\n",
    "Python resoucres: [go.tufts.edu/python](https://sites.tufts.edu/datalab/python/)\\\n",
    "Questions: [datalab-support@elist.tufts.edu](mailto:datalab-support@elist.tufts.edu)\\\n",
    "Feedback: [uku-kaspar.uustalu@tufts.edu](mailto:uku-kaspar.uustalu@tufts.edu)\n",
    "\n",
    "---"
   ]
  },
  {
   "cell_type": "markdown",
   "metadata": {},
   "source": [
    "### Google Colab Setup\n",
    "If you are using Google Colab, please do the following **before proceeding**:\n",
    "1. If you are not already signed into your Google account, click on *Sign In* in the upper-right corner and sign in with your Google credentials. You must be signed in with a Google account to be able to run notebooks in Google Colab.\n",
    "2. Save a copy of the notebook to your Google Drive by clicking the *Copy to Drive* button above or selecting *File > Save a copy in Drive*. A copy of this notebook saved to your Google Drive will pop up. Close the original file and use the copy for the rest of the workshop. Now any changes you make will be saved to your Google Drive. Feel free to rename the copy if desired. You can still run the notebook without saving it to your Google Drive, but your progress and any changes you make will not be retained after you close the notebook.\n",
    "\n",
    "*You might also see a message warning you that this notebook was not authored by Google and hence might contain malicious code. You can trust Data Lab notebooks, so click __Run Anyway__. But when running other third-party notebooks, you should definitely review the code beforehand. __Do not run code you do not understand!__*\n",
    "\n",
    "---"
   ]
  },
  {
   "cell_type": "markdown",
   "metadata": {
    "colab_type": "text",
    "id": "U0jBRAQNbXbp"
   },
   "source": [
    "## Introduction to Python Notebooks\n",
    "\n",
    "Python Notebooks are made up of **cells**. There are three different kinds of cells:\n",
    "1. **Code** cells for Python code.\n",
    "2. **Markdown** cells for text, images, LaTeX equations, etc.\n",
    "3. **Raw** cells for additional non-Python code that modifies the appearance or behaviour of the notebook when exporting it to a different format.\n",
    "\n",
    "Each cell can be run (and re-run) independently.\\\n",
    "To run a cell, select it by clicking on it and then press **Shift+Enter** or **Ctrl+Enter**.\\\n",
    "After running a cell, the following cell gets automatically selected.\n",
    "\n",
    "This is a **Markdown cell**. Markdown is a lighteight language for formatting text.\\\n",
    "To see the code behind a Markdown cell, **double-click** on it.\\\n",
    "To render the Markdown code back into formatted text, you must run the cell.\n",
    "\n",
    "Here are some useful Markdown references:\n",
    "- [Quick cheatsheet of commands](https://github.com/adam-p/markdown-here/wiki/Markdown-Cheatsheet)\n",
    "- [Google Colab Markdown guide](https://colab.research.google.com/notebooks/markdown_guide.ipynb)\n",
    "- [Jupyter Notebook Markdown guide](https://jupyter-notebook.readthedocs.io/en/stable/examples/Notebook/Working%20With%20Markdown%20Cells.html)"
   ]
  },
  {
   "cell_type": "code",
   "execution_count": null,
   "metadata": {
    "colab": {},
    "colab_type": "code",
    "id": "8dZm0dB7bXbs"
   },
   "outputs": [],
   "source": [
    "# This is a code cell\n",
    "# Select this cell and press Shift+Enter or Ctrl+Enter to run it\n",
    "\n",
    "# In Python, the hashtag symbol denotes a comment line\n",
    "# Anything on a comment line is ignored by Python, but could be useful for humans\n",
    "# Adding detailed comments to your code is very important for debugging and sharing\n",
    "\n",
    "# The first command we learned: print\n",
    "print(\"Hello World!\")"
   ]
  },
  {
   "cell_type": "markdown",
   "metadata": {
    "colab_type": "text",
    "id": "CnQh-qKWbXb9"
   },
   "source": [
    "&#8593;&#8593;&#8593;\\\n",
    "The **output** of code cells appears right here in the notebook just below the corresponding cell.\\\n",
    "Output is also stored in the notebook. Any output of a **saved** notebook will still be there after you close it and open it up again.\\\n",
    "If you run a cell again, the output will be overwritten. To clear outputs, go to *Edit > Clear All Outputs*."
   ]
  },
  {
   "cell_type": "markdown",
   "metadata": {},
   "source": [
    "To learn more about Python Notebooks:\n",
    "- [Overview of Google Colab Notebooks](https://colab.research.google.com/notebooks/basic_features_overview.ipynb)\n",
    "- [A Detailed Tutorial on Jupyter Notebooks](https://www.dataquest.io/blog/jupyter-notebook-tutorial/)\n",
    "\n",
    "---"
   ]
  },
  {
   "cell_type": "markdown",
   "metadata": {
    "colab_type": "text",
    "id": "88b8ph5ibXcC"
   },
   "source": [
    "## Understanding how Outputs Work\n",
    "The output from the last line in a block usually gets printed out (even without a print statement)."
   ]
  },
  {
   "cell_type": "code",
   "execution_count": null,
   "metadata": {
    "colab": {},
    "colab_type": "code",
    "id": "5Lo7AxtPbXcG"
   },
   "outputs": [],
   "source": [
    "spam = 500\n",
    "spam * 2"
   ]
  },
  {
   "cell_type": "markdown",
   "metadata": {},
   "source": [
    "But if the output from the last line in a block gets diverted elsewhere (like into a variable), no output will be displayed."
   ]
  },
  {
   "cell_type": "code",
   "execution_count": null,
   "metadata": {
    "colab": {},
    "colab_type": "code",
    "id": "jpW9una2bXca"
   },
   "outputs": [],
   "source": [
    "new_spam = spam * 2"
   ]
  },
  {
   "cell_type": "markdown",
   "metadata": {},
   "source": [
    "Referring to a variable will output its contents, but only if it happens on the last line of a block."
   ]
  },
  {
   "cell_type": "code",
   "execution_count": null,
   "metadata": {
    "colab": {},
    "colab_type": "code",
    "id": "jPjmX7ENbXcT"
   },
   "outputs": [],
   "source": [
    "# the contents of spam get outputted\n",
    "spam"
   ]
  },
  {
   "cell_type": "code",
   "execution_count": null,
   "metadata": {
    "colab": {},
    "colab_type": "code",
    "id": "zz6_G92vbXcd"
   },
   "outputs": [],
   "source": [
    "# only the contents of new_spam get outputted\n",
    "spam\n",
    "new_spam"
   ]
  },
  {
   "cell_type": "code",
   "execution_count": null,
   "metadata": {
    "colab": {},
    "colab_type": "code",
    "id": "AFBQDYJ4bXch"
   },
   "outputs": [],
   "source": [
    "# nothing gets outputted\n",
    "new_spam\n",
    "new_spam = new_spam * 2 // 3  # remeber, this is floor division"
   ]
  },
  {
   "cell_type": "markdown",
   "metadata": {},
   "source": [
    "Knowing this behaviour makes it easy to see the contents of variables and the results of expressions. Just make sure they are on the last line in a block, or run them in their own block.\\\n",
    "However, if you want to be completely sure that something gets outputted in the notebook, it is wise to rely on the good old `print()` function."
   ]
  },
  {
   "cell_type": "code",
   "execution_count": null,
   "metadata": {
    "colab": {},
    "colab_type": "code",
    "id": "iJSfQrvIbXck"
   },
   "outputs": [],
   "source": [
    "print(\"now we have\", new_spam, \"cans of spam\")\n",
    "print(\"previously we had\", spam, \"cans of spam\")"
   ]
  },
  {
   "cell_type": "markdown",
   "metadata": {
    "colab_type": "text",
    "id": "8wMcDLCrbXco"
   },
   "source": [
    "---\n",
    "\n",
    "### Hands-On Execrcise\n",
    "Remember this from before? Run this cell, then change the value of the variables `name` and `age` and run the cell again.\\\n",
    "Note how the previous output gets overwritten."
   ]
  },
  {
   "cell_type": "code",
   "execution_count": null,
   "metadata": {
    "colab": {},
    "colab_type": "code",
    "id": "L0kV15DObXco"
   },
   "outputs": [],
   "source": [
    "name = 'Uku' # remember, in Python you can use either ' or \" to denote strings\n",
    "age = 100\n",
    "\n",
    "print(\"My name is\", name, \"and I'm\", age)"
   ]
  },
  {
   "cell_type": "markdown",
   "metadata": {
    "colab_type": "text",
    "id": "JWZaZPp4bXcr"
   },
   "source": [
    "---\n",
    "\n",
    "## Lists\n",
    "\n",
    "* A **list** is a *mutable* collection/sequence of values that perserves order\n",
    "* Similar to *arrays* or *vectors* in other languages, but more flexible and forgiving\n",
    "* Values can be added to or removed from a list and the entire list can be reordered\n",
    "* A list can contain many differet datatypes and even objects (other lists or data structures)\n",
    "* You use square brackets, **[ ]**, to denote a list in Python\n",
    "* Individual elements are separated by commas\n"
   ]
  },
  {
   "cell_type": "code",
   "execution_count": null,
   "metadata": {
    "colab": {},
    "colab_type": "code",
    "id": "G7XaSuspbXcs"
   },
   "outputs": [],
   "source": [
    "# Example of a list\n",
    "# These might or might not be my exam scores from freshman year\n",
    "scores = [94, 87, 85, 89, 72, 98, 96, 82, 92]\n",
    "scores"
   ]
  },
  {
   "cell_type": "code",
   "execution_count": null,
   "metadata": {
    "colab": {},
    "colab_type": "code",
    "id": "9oNtFOeHbXcv"
   },
   "outputs": [],
   "source": [
    "# We can check what type of variable/structure `scores` is\n",
    "type(scores)"
   ]
  },
  {
   "cell_type": "markdown",
   "metadata": {},
   "source": [
    "We can access elemetns of a list using `list[index]`. This provides both read and write functionality.\\\n",
    "We can use it to read elements from a list but we can also use it with the assignment operator `=` to replace/overwrite elements.\\\n",
    "However, despite the flexibity of python, you cannot use this method to add new elements to a list. Using `list[index]` with a nonexisting index will result in an error.\n",
    "\n",
    "**Remember that Python uses zero-based indexing!**"
   ]
  },
  {
   "cell_type": "code",
   "execution_count": null,
   "metadata": {
    "colab": {},
    "colab_type": "code",
    "id": "W_WfjenxbXcy"
   },
   "outputs": [],
   "source": [
    "# Let's take a look at the frist element\n",
    "scores[0]"
   ]
  },
  {
   "cell_type": "code",
   "execution_count": null,
   "metadata": {},
   "outputs": [],
   "source": [
    "# Let's say we got to retake the third exam and we impoved our score by 6 points\n",
    "scores[2] = scores[2] + 6\n",
    "scores"
   ]
  },
  {
   "cell_type": "markdown",
   "metadata": {},
   "source": [
    "Note how the expression to the right of the assignment operator `=` always gets evaluated before the expression to the left of the assignment operator.\\\n",
    "That allows us to easily get and overwrite the values of variables or list elements using a simple one-line statement.\n",
    "\n",
    "To check if a list contains an element, we can simply ask in English."
   ]
  },
  {
   "cell_type": "code",
   "execution_count": null,
   "metadata": {},
   "outputs": [],
   "source": [
    "print(94 in scores)\n",
    "print(93 in scores)\n",
    "print(93 not in scores)"
   ]
  },
  {
   "cell_type": "markdown",
   "metadata": {},
   "source": [
    "Python has a lot of built-in functions and methods for working with lists. Check out the documentation for an overviev.\n",
    "* Built-in functions: https://docs.python.org/3/library/functions.html\n",
    "* List methods: https://docs.python.org/3/tutorial/datastructures.html"
   ]
  },
  {
   "cell_type": "code",
   "execution_count": null,
   "metadata": {
    "colab": {},
    "colab_type": "code",
    "id": "clbaJdq8bXc2"
   },
   "outputs": [],
   "source": [
    "# I just took another test and got a 70 :(\n",
    "# Let's add it to the list anyways\n",
    "# To do this we use the append method\n",
    "\n",
    "scores.append(70)\n",
    "\n",
    "# Now take a look at `scores` again\n",
    "scores"
   ]
  },
  {
   "cell_type": "code",
   "execution_count": null,
   "metadata": {
    "colab": {},
    "colab_type": "code",
    "id": "LC0tUCSdbXc5"
   },
   "outputs": [],
   "source": [
    "# To get the number of elements in a list, we can use the len function\n",
    "len(scores)"
   ]
  },
  {
   "cell_type": "markdown",
   "metadata": {},
   "source": [
    "To look at a range of elements, we can use slicing: `list[start:end]`"
   ]
  },
  {
   "cell_type": "code",
   "execution_count": null,
   "metadata": {
    "colab": {},
    "colab_type": "code",
    "id": "njZmox-abXc_"
   },
   "outputs": [],
   "source": [
    "# let's look at the fist three elements\n",
    "scores[0:3]"
   ]
  },
  {
   "cell_type": "markdown",
   "metadata": {},
   "source": [
    "To slice from the beginning of the list or until the end of the list, we can just omit the respective index.\\\n",
    "Note that you can also use negatvie indexes to count from the end of the list."
   ]
  },
  {
   "cell_type": "code",
   "execution_count": null,
   "metadata": {},
   "outputs": [],
   "source": [
    "# we can omit the zero to get the first three elements\n",
    "scores[:3]"
   ]
  },
  {
   "cell_type": "code",
   "execution_count": null,
   "metadata": {},
   "outputs": [],
   "source": [
    "# let's look at the last element using negative indexing\n",
    "scores[-1]"
   ]
  },
  {
   "cell_type": "code",
   "execution_count": null,
   "metadata": {},
   "outputs": [],
   "source": [
    "# using the same logic, we can also easily look at the last three elements\n",
    "scores[-3:]"
   ]
  },
  {
   "cell_type": "markdown",
   "metadata": {},
   "source": [
    "Slicing actually also has an optional third argument: `list[start:end:step]`\\\n",
    "When we do not specify `step`, it defaults to one.\\\n",
    "You can still omit the `start` or `end` index as before, even when using `step`."
   ]
  },
  {
   "cell_type": "code",
   "execution_count": null,
   "metadata": {},
   "outputs": [],
   "source": [
    "# let's look at the second, foruth, and sixth element\n",
    "# remember that the first element is at index zero\n",
    "scores[1:6:2]"
   ]
  },
  {
   "cell_type": "code",
   "execution_count": null,
   "metadata": {},
   "outputs": [],
   "source": [
    "# what about the first, third, and fifth?\n",
    "scores[:5:2]"
   ]
  },
  {
   "cell_type": "code",
   "execution_count": null,
   "metadata": {},
   "outputs": [],
   "source": [
    "# omit every second element in the whole list\n",
    "scores[::2]"
   ]
  },
  {
   "cell_type": "code",
   "execution_count": null,
   "metadata": {},
   "outputs": [],
   "source": [
    "# only look at every second element in the whole list\n",
    "scores[1::2]"
   ]
  },
  {
   "cell_type": "markdown",
   "metadata": {},
   "source": [
    "But what if we want to see the three highest scores?\\\n",
    "Let's try the built-in function `sorted()`."
   ]
  },
  {
   "cell_type": "code",
   "execution_count": null,
   "metadata": {},
   "outputs": [],
   "source": [
    "sorted(scores)"
   ]
  },
  {
   "cell_type": "markdown",
   "metadata": {},
   "source": [
    "Is there any way to change the order from ascending to descending?\\\n",
    "We can use `help(sorted)` to find out."
   ]
  },
  {
   "cell_type": "code",
   "execution_count": null,
   "metadata": {},
   "outputs": [],
   "source": [
    "help(sorted)"
   ]
  },
  {
   "cell_type": "markdown",
   "metadata": {},
   "source": [
    "Or we coud take a look at the documentation online: https://docs.python.org/3/library/functions.html#sorted"
   ]
  },
  {
   "cell_type": "code",
   "execution_count": null,
   "metadata": {},
   "outputs": [],
   "source": [
    "sorted(scores, reverse = True)"
   ]
  },
  {
   "cell_type": "code",
   "execution_count": null,
   "metadata": {},
   "outputs": [],
   "source": [
    "# Now we can extract the three highest scores\n",
    "sorted(scores, reverse = True)[0:3]"
   ]
  },
  {
   "cell_type": "markdown",
   "metadata": {
    "colab_type": "text",
    "id": "KqExzhRNbXd4"
   },
   "source": [
    "---\n",
    "\n",
    "## Functions and methods\n",
    "\n",
    "A quick search on StackOverflow reveals that you can also use the sort() method to sort a list.\n",
    "\n",
    "But what is the difference?"
   ]
  },
  {
   "cell_type": "code",
   "execution_count": null,
   "metadata": {},
   "outputs": [],
   "source": [
    "sorted(scores)  # this is a function"
   ]
  },
  {
   "cell_type": "code",
   "execution_count": null,
   "metadata": {},
   "outputs": [],
   "source": [
    "scores  # the function does not modify the original list, it outputs a copy"
   ]
  },
  {
   "cell_type": "code",
   "execution_count": null,
   "metadata": {},
   "outputs": [],
   "source": [
    "scores.sort()  # this is a method, it does not output anything"
   ]
  },
  {
   "cell_type": "code",
   "execution_count": null,
   "metadata": {},
   "outputs": [],
   "source": [
    "scores  # instead, it modifies the original list"
   ]
  },
  {
   "cell_type": "markdown",
   "metadata": {
    "colab_type": "text",
    "id": "KqExzhRNbXd4"
   },
   "source": [
    "---\n",
    "\n",
    "## Strings as Lists\n",
    "\n",
    "You can use slicing and indexing to extract letters from a string, just like you would from a list. "
   ]
  },
  {
   "cell_type": "code",
   "execution_count": null,
   "metadata": {},
   "outputs": [],
   "source": [
    "food = 'egg and spam'"
   ]
  },
  {
   "cell_type": "code",
   "execution_count": null,
   "metadata": {},
   "outputs": [],
   "source": [
    "# we can select single letters (remember that the first letter is at index 0)\n",
    "print(food[0])\n",
    "print(food[1])\n",
    "print(food[2])"
   ]
  },
  {
   "cell_type": "code",
   "execution_count": null,
   "metadata": {},
   "outputs": [],
   "source": [
    "# or we can select a range of letters\n",
    "print(food[:3])\n",
    "print(food[4:7])\n",
    "print(food[8:])"
   ]
  },
  {
   "cell_type": "markdown",
   "metadata": {},
   "source": [
    "---\n",
    "\n",
    "## String Methods\n",
    "\n",
    "Strings also have a tons of useful methods.\n",
    "Here is a good reference: https://www.w3schools.com/python/python_ref_string.asp"
   ]
  },
  {
   "cell_type": "code",
   "execution_count": null,
   "metadata": {},
   "outputs": [],
   "source": [
    "# for example, we can easily convert strings to uppercase\n",
    "food.upper()"
   ]
  },
  {
   "cell_type": "code",
   "execution_count": null,
   "metadata": {},
   "outputs": [],
   "source": [
    "# note that string methods do not modify the original string\n",
    "food"
   ]
  },
  {
   "cell_type": "code",
   "execution_count": null,
   "metadata": {},
   "outputs": [],
   "source": [
    "# let's play with a longer string\n",
    "menu_item = 'spam spam spam spam spam spam baked beans spam spam spam and spam'"
   ]
  },
  {
   "cell_type": "code",
   "execution_count": null,
   "metadata": {},
   "outputs": [],
   "source": [
    "# EXERCISE: Replace \"baked beans\" with \"eggs\" in menu_tiem\n"
   ]
  },
  {
   "cell_type": "code",
   "execution_count": null,
   "metadata": {},
   "outputs": [],
   "source": [
    "# we can also transform a string into a list\n",
    "menu_item_list = menu_item.split()"
   ]
  },
  {
   "cell_type": "code",
   "execution_count": null,
   "metadata": {},
   "outputs": [],
   "source": [
    "menu_item_list"
   ]
  },
  {
   "cell_type": "code",
   "execution_count": null,
   "metadata": {},
   "outputs": [],
   "source": [
    "# EXERCISE: How many times does \"spam\" appear in the list?\n",
    "# Hint: you might want to search the web\n"
   ]
  },
  {
   "cell_type": "markdown",
   "metadata": {
    "colab_type": "text",
    "id": "KqExzhRNbXd4"
   },
   "source": [
    "---\n",
    "\n",
    "## Storing data with labels: Dictornaries\n",
    "\n",
    "What if want to keep a record of students in a class, their class year, their exam scores, and wheter they are a graduate or an undergraduate student?\n",
    "\n",
    "This is where dictionaries come in handy. They allow us to store related data with labels, also known as **key-value** pairs.<br/>Dictionaries are donted with curly braces **{ }** in python."
   ]
  },
  {
   "cell_type": "code",
   "execution_count": null,
   "metadata": {
    "colab": {},
    "colab_type": "code",
    "id": "Qrn7ZExBbXd5"
   },
   "outputs": [],
   "source": [
    "# Example of a dictionary\n",
    "student1 = {'first': 'John', 'last': 'Smith', 'year': 2020, 'scores':[98, 94, 95, 86]}\n",
    "student1"
   ]
  },
  {
   "cell_type": "code",
   "execution_count": null,
   "metadata": {
    "colab": {},
    "colab_type": "code",
    "id": "0tfmEUplbXd7"
   },
   "outputs": [],
   "source": [
    "# To access data from a dictionary you need to use the keys\n",
    "student1['first']"
   ]
  },
  {
   "cell_type": "code",
   "execution_count": null,
   "metadata": {
    "colab": {},
    "colab_type": "code",
    "id": "uAAKmGAjbXd9"
   },
   "outputs": [],
   "source": [
    "# Let's say we want to know what grade John got on the second exam\n",
    "student1['scores'][2]"
   ]
  },
  {
   "cell_type": "code",
   "execution_count": null,
   "metadata": {},
   "outputs": [],
   "source": [
    "# Here are some more students\n",
    "student2 = {'first': 'Mary', 'last': 'Johnson', 'year': 2023, 'scores':[89, 92, 96, 82]}\n",
    "student3 = {'first': 'Robert', 'last': 'Williams', 'year': 2021, 'scores':[88, 72, 64, 91]}\n",
    "student4 = {'first': 'Jennifer', 'last': 'Jones', 'year': 2022, 'scores':[92, 91, 94, 99]}"
   ]
  },
  {
   "cell_type": "code",
   "execution_count": null,
   "metadata": {},
   "outputs": [],
   "source": [
    "# We can store our students in a list\n",
    "students = [student1, student2, student3, student4]\n",
    "students"
   ]
  },
  {
   "cell_type": "code",
   "execution_count": null,
   "metadata": {},
   "outputs": [],
   "source": [
    "# Let's create another student and add it to our list\n",
    "\n",
    "student = {}\n",
    "student['first'] = 'Linda'\n",
    "student['last'] = 'Wilson'\n",
    "student['year'] = 2024\n",
    "student['graduate'] = False\n",
    "student['scores'] = [84, 92, 89, 94]\n",
    "\n",
    "students.append(student)\n",
    "students"
   ]
  },
  {
   "cell_type": "code",
   "execution_count": null,
   "metadata": {},
   "outputs": [],
   "source": [
    "# EXERCISE: create another student using the first four scores from our previous list of scores\n",
    "# Hint: you can use slicing to extract a range of elements from a list\n"
   ]
  },
  {
   "cell_type": "code",
   "execution_count": null,
   "metadata": {},
   "outputs": [],
   "source": [
    "# EXERCISE: add the newly created student to our list of students\n"
   ]
  },
  {
   "cell_type": "markdown",
   "metadata": {
    "colab_type": "text",
    "id": "WGmbepABbXdC"
   },
   "source": [
    "---\n",
    "\n",
    "## Functions\n",
    "\n",
    "**Functions** take an input, do something with it, and provide an output. "
   ]
  },
  {
   "cell_type": "code",
   "execution_count": null,
   "metadata": {
    "colab": {},
    "colab_type": "code",
    "id": "zNcI16SEbXdD"
   },
   "outputs": [],
   "source": [
    "# example of a function whose output is the square of a number\n",
    "def square(x):\n",
    "    sq = x * x\n",
    "    return sq"
   ]
  },
  {
   "cell_type": "code",
   "execution_count": null,
   "metadata": {},
   "outputs": [],
   "source": [
    "square(5)"
   ]
  },
  {
   "cell_type": "markdown",
   "metadata": {},
   "source": [
    "Note that any variables defined within a function definition are temporary and only exist within that function.\\\n",
    "For example, the varialbe `sq` does not exist, even tohugh we just used it when we called `square()`."
   ]
  },
  {
   "cell_type": "code",
   "execution_count": null,
   "metadata": {},
   "outputs": [],
   "source": [
    "# attempting to refer to sq will gives us an error because it is not defined\n",
    "sq"
   ]
  },
  {
   "cell_type": "markdown",
   "metadata": {},
   "source": [
    "We must use the `return` statement to make the function output any desired values.\\\n",
    "Note that the whoe expression to the right of the `return` statement gets evaluated first, and then the result of the whole expression gets outputted."
   ]
  },
  {
   "cell_type": "code",
   "execution_count": null,
   "metadata": {},
   "outputs": [],
   "source": [
    "# knowing this we can rewrite our function\n",
    "def square(x):\n",
    "    return x * x"
   ]
  },
  {
   "cell_type": "code",
   "execution_count": null,
   "metadata": {
    "colab": {},
    "colab_type": "code",
    "id": "a0ZFCbaobXdK"
   },
   "outputs": [],
   "source": [
    "square(3)"
   ]
  },
  {
   "cell_type": "markdown",
   "metadata": {},
   "source": [
    "However, functions do not need to take input nor do they need to return anything."
   ]
  },
  {
   "cell_type": "code",
   "execution_count": null,
   "metadata": {},
   "outputs": [],
   "source": [
    "# Example of a function that does not take input\n",
    "def getSpam():\n",
    "    print('spam')"
   ]
  },
  {
   "cell_type": "code",
   "execution_count": null,
   "metadata": {},
   "outputs": [],
   "source": [
    "getSpam()"
   ]
  },
  {
   "cell_type": "code",
   "execution_count": null,
   "metadata": {},
   "outputs": [],
   "source": [
    "# Note that printing and returning are not the same things\n",
    "# This function does not take input, but still returns something\n",
    "def returnSpam():\n",
    "    return 'spam'"
   ]
  },
  {
   "cell_type": "code",
   "execution_count": null,
   "metadata": {},
   "outputs": [],
   "source": [
    "a = returnSpam()"
   ]
  },
  {
   "cell_type": "code",
   "execution_count": null,
   "metadata": {},
   "outputs": [],
   "source": [
    "a"
   ]
  },
  {
   "cell_type": "markdown",
   "metadata": {
    "colab_type": "text",
    "id": "MB6IicY_bXdU"
   },
   "source": [
    "What happens if you call **square** on a list?"
   ]
  },
  {
   "cell_type": "code",
   "execution_count": null,
   "metadata": {
    "colab": {},
    "colab_type": "code",
    "id": "edyK2HOSbXdV"
   },
   "outputs": [],
   "source": [
    "square(scores)"
   ]
  },
  {
   "cell_type": "markdown",
   "metadata": {
    "colab_type": "text",
    "id": "WAJDELUWbXdY"
   },
   "source": [
    "It's important to think about the **type** of the input.\n",
    "\n",
    "---\n",
    "\n",
    "### Exercises involving Functions\n",
    "Write a function that adds 42 to whatever number you give it."
   ]
  },
  {
   "cell_type": "code",
   "execution_count": null,
   "metadata": {},
   "outputs": [],
   "source": [
    "# answer here\n"
   ]
  },
  {
   "cell_type": "markdown",
   "metadata": {},
   "source": [
    "Write a function with the following characteristics:\\\n",
    "***Input:*** A word (string).\\\n",
    "***Output:*** The same word but with `\" and spam\"` added to the end of it."
   ]
  },
  {
   "cell_type": "code",
   "execution_count": null,
   "metadata": {},
   "outputs": [],
   "source": [
    "# answer here\n"
   ]
  },
  {
   "cell_type": "markdown",
   "metadata": {},
   "source": [
    "Write a function with the following characteristics:\\\n",
    "***Input:*** Two numbers.\\\n",
    "***Output:*** The frist number to the power of the second number.\n",
    "\n",
    "*__Bonus:__ Use a named argument and make the function square by default.*"
   ]
  },
  {
   "cell_type": "code",
   "execution_count": null,
   "metadata": {},
   "outputs": [],
   "source": [
    "# answer here\n"
   ]
  },
  {
   "cell_type": "markdown",
   "metadata": {},
   "source": [
    "Write a function with the following characteristics:\\\n",
    "***Input:*** A string and a number.\\\n",
    "***Output:*** The same string except the first and last letters have been duplicated by the specified number of times."
   ]
  },
  {
   "cell_type": "code",
   "execution_count": null,
   "metadata": {},
   "outputs": [],
   "source": [
    "# answer here\n"
   ]
  },
  {
   "cell_type": "markdown",
   "metadata": {
    "colab_type": "text",
    "id": "BNwuw2VnbXdb"
   },
   "source": [
    "---\n",
    "\n",
    "## Loops\n",
    "\n",
    "**For** loops allow us to iterate over elements of a list."
   ]
  },
  {
   "cell_type": "code",
   "execution_count": null,
   "metadata": {
    "colab": {},
    "colab_type": "code",
    "id": "FohQu7iwbXdc"
   },
   "outputs": [],
   "source": [
    "# Let's say we want to print out each of my scores one by one\n",
    "\n",
    "for score in scores:\n",
    "    print(score)"
   ]
  },
  {
   "cell_type": "code",
   "execution_count": null,
   "metadata": {
    "colab": {},
    "colab_type": "code",
    "id": "TQv5ZIgWbXdj"
   },
   "outputs": [],
   "source": [
    "# Some of the low scores make us really sad\n",
    "# Let's create an illusion of happiness by adding five points to each grade before printing them out\n",
    "\n",
    "for score in scores:\n",
    "    score = score + 5\n",
    "    print(score)"
   ]
  },
  {
   "cell_type": "code",
   "execution_count": null,
   "metadata": {
    "colab": {},
    "colab_type": "code",
    "id": "a6O7rGewbXdm"
   },
   "outputs": [],
   "source": [
    "# Did that chage our original scores?\n",
    "scores"
   ]
  },
  {
   "cell_type": "markdown",
   "metadata": {},
   "source": [
    "**While** loops allow us to repeat a code segment as long as a certain condition is met."
   ]
  },
  {
   "cell_type": "code",
   "execution_count": null,
   "metadata": {
    "colab": {},
    "colab_type": "code",
    "id": "mFeHbOrFbXdf"
   },
   "outputs": [],
   "source": [
    "# There really are not any good examples of while loops at the beginner level\n",
    "# So here is one that just prints \"spam\" ten times\n",
    "\n",
    "count = 0  # how many times we have printed spam\n",
    "\n",
    "while count < 10:\n",
    "    print('spam')\n",
    "    count = count + 1   # we must update the count to eventually exit the loop\n",
    "    \n",
    "# note that we could also achieve this using a for loop on a random 10-element list"
   ]
  },
  {
   "cell_type": "markdown",
   "metadata": {},
   "source": [
    "In python `range()` is often used as an alternative to while loops or to iteratre over the indeces of a list."
   ]
  },
  {
   "cell_type": "code",
   "execution_count": null,
   "metadata": {},
   "outputs": [],
   "source": [
    "# we can use range to do something a specified number of times\n",
    "for i in range(10):\n",
    "    print('spam')"
   ]
  },
  {
   "cell_type": "code",
   "execution_count": null,
   "metadata": {},
   "outputs": [],
   "source": [
    "# or we can use it to iterate over the indeces of a list, as opposed to the elemens themselves\n",
    "for i in range(len(scores)):\n",
    "    print('the score at index', i, 'is', scores[i])"
   ]
  },
  {
   "cell_type": "markdown",
   "metadata": {},
   "source": [
    "However, when we want to access **both** every element **and** their respective index number, `enumerate()` is a much better option."
   ]
  },
  {
   "cell_type": "code",
   "execution_count": null,
   "metadata": {},
   "outputs": [],
   "source": [
    "for i, score in enumerate(scores):\n",
    "    print('the grade at index', i, 'is', score)"
   ]
  },
  {
   "cell_type": "markdown",
   "metadata": {},
   "source": [
    "---\n",
    "\n",
    "### Sidenote: Tuples\n",
    "\n",
    "Why did we need to use `i, scores` when we used `enumerate(grades)`?\\\n",
    "That's because `enumerate()` returns a list of tuples.\\\n",
    "A **tuple** is an urdered ***unchangeable*** collection of elements."
   ]
  },
  {
   "cell_type": "code",
   "execution_count": null,
   "metadata": {},
   "outputs": [],
   "source": [
    "# example of a tuple\n",
    "triple = (1, 2, 3)"
   ]
  },
  {
   "cell_type": "code",
   "execution_count": null,
   "metadata": {},
   "outputs": [],
   "source": [
    "# we can use indexing to access tuple elements\n",
    "triple[1]"
   ]
  },
  {
   "cell_type": "code",
   "execution_count": null,
   "metadata": {},
   "outputs": [],
   "source": [
    "# we can also easily extract all elements from a tuple\n",
    "a, b, c = triple\n",
    "print(a, b, c)"
   ]
  },
  {
   "cell_type": "code",
   "execution_count": null,
   "metadata": {},
   "outputs": [],
   "source": [
    "# we can also ignore elements we are not interested in\n",
    "_, second, _ = triple\n",
    "second"
   ]
  },
  {
   "cell_type": "markdown",
   "metadata": {
    "colab_type": "text",
    "id": "WAJDELUWbXdY"
   },
   "source": [
    "---\n",
    "\n",
    "### Exercises involving Loops\n",
    "Use a **for-loop** to write a function with the following characteristics:\\\n",
    "***Input:*** A list of numbers.\\\n",
    "***Output:*** A copy of the input where the number 42 has been added to each element.\n",
    "\n",
    "*If nothing comes to mind at first, these hints might be of help:*\n",
    "1. *Rememer that simply modifying a list element in a for-loop does not change the original list.*\n",
    "2. *Empty square brackets __[ ]__ denote an empty list.*\n",
    "3. *You might want to use the append method and a function from a previous challenge.*"
   ]
  },
  {
   "cell_type": "code",
   "execution_count": null,
   "metadata": {},
   "outputs": [],
   "source": [
    "# answer here\n"
   ]
  },
  {
   "cell_type": "markdown",
   "metadata": {},
   "source": [
    "Use a **loop** to write a function with the following characteristics:\\\n",
    "***Input:*** A number.\\\n",
    "***Output:*** The word `\"spam\" printed out said number of times, each on a new line."
   ]
  },
  {
   "cell_type": "code",
   "execution_count": null,
   "metadata": {},
   "outputs": [],
   "source": [
    "# answer here\n"
   ]
  },
  {
   "cell_type": "markdown",
   "metadata": {},
   "source": [
    "Use `range()` to write a function that takes a list of numbers as an input, but does not output anything.\\\n",
    "Instead, it modifies the input list such that 42 gets added to each element.\n",
    "\n",
    "**DO NOT** use `scores` to test this function! Instead, use the provided **copy** if desired.\\\n",
    "*We will talk about the importance of the `.copy()` method next week."
   ]
  },
  {
   "cell_type": "code",
   "execution_count": null,
   "metadata": {},
   "outputs": [],
   "source": [
    "# create a copy of scores for testing purposes\n",
    "scores_copy = scores.copy()"
   ]
  },
  {
   "cell_type": "code",
   "execution_count": null,
   "metadata": {},
   "outputs": [],
   "source": [
    "# answer here\n"
   ]
  },
  {
   "cell_type": "markdown",
   "metadata": {},
   "source": [
    "Remember the dictionary `students` from before?\\\n",
    "Write a function that curves the scores of all the students in the dictionary by adding five points to each score."
   ]
  },
  {
   "cell_type": "code",
   "execution_count": null,
   "metadata": {},
   "outputs": [],
   "source": [
    "# this is the dictionary in case you do not rememer\n",
    "students"
   ]
  },
  {
   "cell_type": "code",
   "execution_count": null,
   "metadata": {},
   "outputs": [],
   "source": [
    "# answer here\n"
   ]
  },
  {
   "cell_type": "markdown",
   "metadata": {},
   "source": [
    "---\n",
    "\n",
    "## Advanced: Lambda Functions and Mapping\n",
    "\n",
    "Remember the function `square()` from before?\\\n",
    "It is such a simple function, it can easily be written as a quick one-liner."
   ]
  },
  {
   "cell_type": "code",
   "execution_count": null,
   "metadata": {},
   "outputs": [],
   "source": [
    "square = lambda x : x * x"
   ]
  },
  {
   "cell_type": "code",
   "execution_count": null,
   "metadata": {},
   "outputs": [],
   "source": [
    "square(4)"
   ]
  },
  {
   "cell_type": "markdown",
   "metadata": {},
   "source": [
    "These one-line functions called **lambda** functions, but also often referred to as *ananonomous* fuctnions.\\\n",
    "That's because they do not have a name. You can easily define a lambda function as follows, without ever having to specify a function name.\n",
    "\n",
    "`lambda arguments : expression`\n",
    "\n",
    "Note how you do not need to use `return`. The result of the one-line expression gets automatically outputted.\\\n",
    "If desired, you can store a lambda function definition into a variable and use it as you would a normal function.\n",
    "\n",
    "However, the true power of lambda functions are reveald when dealing with functions that expect other functions as input.\\\n",
    "One of these functions is the built in `map()` function. It takes a function and an iterable (list), and returns a new iterable where the function has been applied to each element.\\\n",
    "It is kind of like using a `for` loop, exept it is much more efficient and often the preferred alternative to using a for loop for simple element-wise operations."
   ]
  },
  {
   "cell_type": "code",
   "execution_count": null,
   "metadata": {},
   "outputs": [],
   "source": [
    "# let's square all of the scores\n",
    "map(square, scores)"
   ]
  },
  {
   "cell_type": "markdown",
   "metadata": {},
   "source": [
    "By default `map()` just creates a recepie on how to consurt our new iterable or list. It will not actually create a new iterable unless explicitly asked to do so."
   ]
  },
  {
   "cell_type": "code",
   "execution_count": null,
   "metadata": {},
   "outputs": [],
   "source": [
    "list(map(square, scores))"
   ]
  },
  {
   "cell_type": "markdown",
   "metadata": {},
   "source": [
    "But what if we want to cube all of the scores?\\\n",
    "We do not have to define a new function for that, we can just use `lambda`."
   ]
  },
  {
   "cell_type": "code",
   "execution_count": null,
   "metadata": {},
   "outputs": [],
   "source": [
    "list(map(lambda x : x ** 3, scores))"
   ]
  },
  {
   "cell_type": "markdown",
   "metadata": {},
   "source": [
    "---\n",
    "### Exercises involving Map and Lambda\n",
    "Use `map()` and a `lambda` function to rewrite this function from before:\\\n",
    "***Input:*** A list of numbers.\\\n",
    "***Output:*** A copy of the input where the number 42 has been added to each element."
   ]
  },
  {
   "cell_type": "code",
   "execution_count": null,
   "metadata": {},
   "outputs": [],
   "source": [
    "# answer here\n"
   ]
  },
  {
   "cell_type": "markdown",
   "metadata": {
    "colab_type": "text",
    "id": "eeTCQuzlbXdt"
   },
   "source": [
    "---\n",
    "\n",
    "## Conditionals\n",
    "\n",
    "**If ... else** blocks can be used to run different segments of code depending on specified criteria."
   ]
  },
  {
   "cell_type": "code",
   "execution_count": null,
   "metadata": {},
   "outputs": [],
   "source": [
    "# let's say we want ot know if an exam score corresponds to the letter grade 'A'\n",
    "# we can use conditionals to write a function that congratulates us if we have an a\n",
    "\n",
    "def checkIfA(score):\n",
    "    if score >= 90:\n",
    "        print('Score', score, 'corresponds to an A.')\n",
    "        print('Congratulations!')\n",
    "    else:\n",
    "        print('Score', score, 'does not correspond to an A.')\n",
    "        print('Sorry...')"
   ]
  },
  {
   "cell_type": "code",
   "execution_count": null,
   "metadata": {},
   "outputs": [],
   "source": [
    "checkIfA(91)"
   ]
  },
  {
   "cell_type": "code",
   "execution_count": null,
   "metadata": {},
   "outputs": [],
   "source": [
    "checkIfA(89)"
   ]
  },
  {
   "cell_type": "markdown",
   "metadata": {},
   "source": [
    "We can also omit the **else** if desired, in that case the code does not get run if the specified condition is not met."
   ]
  },
  {
   "cell_type": "code",
   "execution_count": null,
   "metadata": {},
   "outputs": [],
   "source": [
    "def yayIffA(score):\n",
    "    if score >= 90:\n",
    "        print('YAY!')"
   ]
  },
  {
   "cell_type": "code",
   "execution_count": null,
   "metadata": {},
   "outputs": [],
   "source": [
    "yayIffA(91)"
   ]
  },
  {
   "cell_type": "code",
   "execution_count": null,
   "metadata": {},
   "outputs": [],
   "source": [
    "yayIffA(89)"
   ]
  },
  {
   "cell_type": "markdown",
   "metadata": {},
   "source": [
    "We can aslo stack conditionals using `else if` or `elif` to provide more functionality.\\\n",
    "The conditional statements get evaluated in order, from top to bottom."
   ]
  },
  {
   "cell_type": "code",
   "execution_count": null,
   "metadata": {
    "colab": {},
    "colab_type": "code",
    "id": "WMGT8pakbXdv"
   },
   "outputs": [],
   "source": [
    "# knowing the letter grade ranges, we can write a function that maps a score to a letter grade\n",
    "def getLetterGrade(score):\n",
    "    if score < 60:\n",
    "        return 'F'\n",
    "    elif score < 70:\n",
    "        return 'D'\n",
    "    elif score < 80:\n",
    "        return 'C'\n",
    "    elif score < 90:\n",
    "        return 'B'\n",
    "    else:\n",
    "        return 'A'"
   ]
  },
  {
   "cell_type": "code",
   "execution_count": null,
   "metadata": {
    "colab": {},
    "colab_type": "code",
    "id": "kewlHOogbXdz"
   },
   "outputs": [],
   "source": [
    "# Now we can use a loop to get a list of letter grades from our scores\n",
    "\n",
    "letter_grades = []\n",
    "\n",
    "for grade in scores:\n",
    "    letter_grades.append(getLetterGrade(grade))\n",
    "    \n",
    "letter_grades"
   ]
  },
  {
   "cell_type": "markdown",
   "metadata": {},
   "source": [
    "---\n",
    "### Exercises involving Conditionals\n",
    "Use a **conditional** and a **for-loop** to write a function with the following charactersitics:\\\n",
    "***Input:*** A list of exam scores.\\\n",
    "***Output:*** A new list containing only the exam scores that correspond to the letter grade **A**, in order.\n",
    "\n",
    "*If nothing comes to mind at first, these hints might be of help:*\n",
    "1. *Feel free to use the function we just created and your code from a previous challenge.*\n",
    "2. *Use `==` to check for equality. This also works for strings.*"
   ]
  },
  {
   "cell_type": "code",
   "execution_count": null,
   "metadata": {},
   "outputs": [],
   "source": [
    "# answer here\n"
   ]
  },
  {
   "cell_type": "markdown",
   "metadata": {
    "colab_type": "text",
    "id": "Zz4jF__DbXeP"
   },
   "source": [
    "---\n",
    "\n",
    "## A Teaser for Next Week\n",
    "\n",
    "This is how you import modules, packages, or libraries."
   ]
  },
  {
   "cell_type": "code",
   "execution_count": null,
   "metadata": {
    "colab": {},
    "colab_type": "code",
    "id": "_u1uZ8rCbXeP"
   },
   "outputs": [],
   "source": [
    "import numpy as np\n",
    "import matplotlib.pyplot as plt"
   ]
  },
  {
   "cell_type": "markdown",
   "metadata": {},
   "source": [
    "Let us experiment with some **NumPy** functions."
   ]
  },
  {
   "cell_type": "code",
   "execution_count": null,
   "metadata": {
    "colab": {},
    "colab_type": "code",
    "id": "7jLBTDIIbXeT"
   },
   "outputs": [],
   "source": [
    "# create an array and fill it with evenly spaced numbers from 0 to 2pi\n",
    "x = np.linspace(0, 2 * np.pi, num = 100, dtype = float)\n",
    "\n",
    "# What are num and dtype?\n",
    "# Check out the documentation: https://docs.scipy.org/doc/numpy/reference/generated/numpy.linspace.html"
   ]
  },
  {
   "cell_type": "markdown",
   "metadata": {},
   "source": [
    "What are `num` and `dytpe`?\\\n",
    "Use `help()` or check out the documentation online: https://docs.scipy.org/doc/numpy/reference/generated/numpy.linspace.html"
   ]
  },
  {
   "cell_type": "code",
   "execution_count": null,
   "metadata": {},
   "outputs": [],
   "source": [
    "help(np.linspace)"
   ]
  },
  {
   "cell_type": "markdown",
   "metadata": {},
   "source": [
    "NumPy arrays have an attribute `.size` that equals the number of elements."
   ]
  },
  {
   "cell_type": "code",
   "execution_count": null,
   "metadata": {},
   "outputs": [],
   "source": [
    "x.size"
   ]
  },
  {
   "cell_type": "markdown",
   "metadata": {},
   "source": [
    "Let's calculate the sine of `x` and plot it using **matplotlib**."
   ]
  },
  {
   "cell_type": "code",
   "execution_count": null,
   "metadata": {},
   "outputs": [],
   "source": [
    "y = np.sin(x)"
   ]
  },
  {
   "cell_type": "code",
   "execution_count": null,
   "metadata": {
    "colab": {},
    "colab_type": "code",
    "id": "fCGLmxg9bXeX"
   },
   "outputs": [],
   "source": [
    "# define the plot\n",
    "plt.plot(x, y, '*-')\n",
    "\n",
    "# add labels\n",
    "plt.xlabel('x')\n",
    "plt.ylabel('y')\n",
    "\n",
    "# show the plot\n",
    "plt.show()\n",
    "\n",
    "# the '*-' is just a shorthand for a line graph with tick marks"
   ]
  }
 ],
 "metadata": {
  "kernelspec": {
   "display_name": "Python 3",
   "language": "python",
   "name": "python3"
  },
  "language_info": {
   "codemirror_mode": {
    "name": "ipython",
    "version": 3
   },
   "file_extension": ".py",
   "mimetype": "text/x-python",
   "name": "python",
   "nbconvert_exporter": "python",
   "pygments_lexer": "ipython3",
   "version": "3.8.3"
  }
 },
 "nbformat": 4,
 "nbformat_minor": 4
}
